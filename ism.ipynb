{
 "cells": [
  {
   "cell_type": "code",
   "execution_count": 1,
   "metadata": {},
   "outputs": [
    {
     "data": {
      "text/plain": [
       "0.0007476806640624999"
      ]
     },
     "execution_count": 1,
     "metadata": {},
     "output_type": "execute_result"
    }
   ],
   "source": [
    "import numpy as np\n",
    "import math\n",
    "n=1\n",
    "hcut= 1.05*10**-34 #J.S\n",
    "m=1.6*10**-27 #Kg\n",
    "r=1.2*10**-10 #m\n",
    "E1=(n**2 *hcut**2/(4*m*r**2))\n",
    "E2=E1/(1.6*10**-19) #change to eV \n",
    "E2"
   ]
  },
  {
   "cell_type": "code",
   "execution_count": 2,
   "metadata": {},
   "outputs": [
    {
     "data": {
      "text/plain": [
       "0.0016551183673469388"
      ]
     },
     "execution_count": 2,
     "metadata": {},
     "output_type": "execute_result"
    }
   ],
   "source": [
    "E=E2*1.6*10**-19#*6.2*10**-4\n",
    "h=6.6*10**-34\n",
    "c=3*10**8\n",
    "length=h*c/E\n",
    "length"
   ]
  },
  {
   "cell_type": "code",
   "execution_count": 3,
   "metadata": {},
   "outputs": [
    {
     "data": {
      "text/plain": [
       "181255918560.60605"
      ]
     },
     "execution_count": 3,
     "metadata": {},
     "output_type": "execute_result"
    }
   ],
   "source": [
    "freq=E/h\n",
    "freq"
   ]
  },
  {
   "cell_type": "code",
   "execution_count": 4,
   "metadata": {},
   "outputs": [],
   "source": [
    "lamda= 100*10**-9\n",
    "t=273\n",
    "k=1.38*10**-23\n",
    "c=3*10**8\n",
    "m=1.67*10**-27"
   ]
  },
  {
   "cell_type": "code",
   "execution_count": 5,
   "metadata": {},
   "outputs": [
    {
     "name": "stdout",
     "output_type": "stream",
     "text": [
      "FWHM 1.1789600812619011e-12\n"
     ]
    },
    {
     "data": {
      "text/plain": [
       "0.001178960081261901"
      ]
     },
     "execution_count": 5,
     "metadata": {},
     "output_type": "execute_result"
    }
   ],
   "source": [
    "fwhm= (2*lamda/c)* np.sqrt(2*k*t*np.log(2)/m)\n",
    "print(\"FWHM\",fwhm)\n",
    "fwhm=fwhm/10**-9\n",
    "fwhm  #in nm\n"
   ]
  },
  {
   "cell_type": "code",
   "execution_count": 6,
   "metadata": {},
   "outputs": [
    {
     "data": {
      "text/plain": [
       "4.523893421169302e-20"
      ]
     },
     "execution_count": 6,
     "metadata": {},
     "output_type": "execute_result"
    }
   ],
   "source": [
    "nd= 10**27 #  /m**3number density\n",
    "sigma= np.pi * r**2\n",
    "sigma\n"
   ]
  },
  {
   "cell_type": "code",
   "execution_count": 7,
   "metadata": {},
   "outputs": [
    {
     "name": "stdout",
     "output_type": "stream",
     "text": [
      "FWHM 1.0195742683212217e-12\n"
     ]
    },
    {
     "data": {
      "text/plain": [
       "0.0010195742683212217"
      ]
     },
     "execution_count": 7,
     "metadata": {},
     "output_type": "execute_result"
    }
   ],
   "source": [
    "fwhm1= lamda**2 *nd*sigma/(np.pi * c)*np.sqrt(2*k*t/m)\n",
    "print(\"FWHM\",fwhm1)\n",
    "fwhm1=fwhm1/10**-9\n",
    "fwhm1  #in nm\n"
   ]
  },
  {
   "cell_type": "code",
   "execution_count": 8,
   "metadata": {},
   "outputs": [
    {
     "name": "stdout",
     "output_type": "stream",
     "text": [
      "86.4808134326244 %\n"
     ]
    }
   ],
   "source": [
    "print(fwhm1/fwhm *100 ,\"%\")"
   ]
  },
  {
   "cell_type": "code",
   "execution_count": 9,
   "metadata": {},
   "outputs": [
    {
     "data": {
      "text/plain": [
       "3.9322283892126316e+26"
      ]
     },
     "execution_count": 9,
     "metadata": {},
     "output_type": "execute_result"
    }
   ],
   "source": [
    "stf=5.67*10**-8\n",
    "r=698340*1000\n",
    "t=5800\n",
    "L=stf*4*np.pi* r**2*t**4\n",
    "L"
   ]
  },
  {
   "cell_type": "code",
   "execution_count": 10,
   "metadata": {},
   "outputs": [
    {
     "data": {
      "text/plain": [
       "1409.4716127865224"
      ]
     },
     "execution_count": 10,
     "metadata": {},
     "output_type": "execute_result"
    }
   ],
   "source": [
    "d=1.49*10**11\n",
    "flux=L/(4*np.pi *d**2)\n",
    "flux"
   ]
  },
  {
   "cell_type": "code",
   "execution_count": 11,
   "metadata": {},
   "outputs": [
    {
     "data": {
      "text/plain": [
       "31536000"
      ]
     },
     "execution_count": 11,
     "metadata": {},
     "output_type": "execute_result"
    }
   ],
   "source": [
    "\n",
    "x=86400*365\n",
    "x"
   ]
  },
  {
   "cell_type": "code",
   "execution_count": 12,
   "metadata": {},
   "outputs": [
    {
     "data": {
      "text/plain": [
       "2.297525976813069"
      ]
     },
     "execution_count": 12,
     "metadata": {},
     "output_type": "execute_result"
    }
   ],
   "source": [
    "z2=1\n",
    "z1=2\n",
    "m=9.1*10**-31\n",
    "n=6.1*10**31\n",
    "el=1.6*10**-19\n",
    "k=1.38*10**-23\n",
    "t=1.5*10**7\n",
    "h=6.6*10**-34\n",
    "c=-13.6*el\n",
    "x=  math.exp(c/(k*t))\n",
    "n1=(2*z2/(n*z1))*(2*math.pi *m*k*t/h**2)**1.5 *x\n",
    "n1"
   ]
  },
  {
   "cell_type": "code",
   "execution_count": 13,
   "metadata": {},
   "outputs": [
    {
     "data": {
      "text/plain": [
       "0.6967423434927839"
      ]
     },
     "execution_count": 13,
     "metadata": {},
     "output_type": "execute_result"
    }
   ],
   "source": [
    "\n",
    "nt= n1/(1+n1)\n",
    "nt"
   ]
  },
  {
   "cell_type": "code",
   "execution_count": 14,
   "metadata": {},
   "outputs": [
    {
     "name": "stdout",
     "output_type": "stream",
     "text": [
      "The average temperature of the earth is = [10822.40213631  7652.59393931  6248.31678668  5411.20106815\n",
      "  4839.92537133  4418.22717086  4090.48352014  3826.29696966\n",
      "  3607.46737877  3422.3440505   3263.07701968  3124.15839334\n",
      "  3001.59429432  2892.40863543  2794.33221599  2705.60053408\n",
      "  2624.81806652  2550.86464644  2482.82932834  2419.96268566\n",
      "  2361.64176147  2307.34388815  2256.62684014  2209.11358543\n",
      "  2164.48042726  2122.44767988  2082.77226223  2045.24176007\n",
      "  2009.66962459  1975.89125882  1943.76080435  1913.14848483\n",
      "  1883.9383957   1856.02665422  1829.31984238  1803.73368938\n",
      "  1779.19195142  1755.6254546   1732.97127382  1711.17202525\n",
      "  1690.1752543   1669.93290427  1650.40085335  1631.53850984\n",
      "  1613.30845711  1595.67614127  1578.6095956   1562.07919667\n",
      "  1546.05744804  1530.51878786  1515.43941728  1500.79714716\n",
      "  1486.57126072  1472.74239029  1459.29240636  1446.20431771\n",
      "  1433.46218107  1421.05101949  1408.95674832  1397.166108\n",
      "  1385.66660291  1374.44644576  1363.49450671  1352.80026704\n",
      "  1342.35377659  1332.14561494  1322.16685559  1312.40903326\n",
      "  1302.86411362  1293.5244655   1284.3828353   1275.43232322\n",
      "  1266.66636145  1258.07869388  1249.66335734  1241.41466417\n",
      "  1233.32718613  1225.39573932  1217.61537025  1209.98134283\n",
      "  1202.48912626  1195.13438371  1187.9129618   1180.82088074\n",
      "  1173.85432506  1167.00963508  1160.28329874  1153.67194407\n",
      "  1147.17233211  1140.78135017  1134.49600564  1128.31342007\n",
      "  1122.23082363  1116.24554989  1110.35503094  1104.55679272\n",
      "  1098.84845066  1093.22770562  1087.69233989] K\n",
      "The average temperature of the earth is = [10549.40213631  7379.59393931  5975.31678668  5138.20106815\n",
      "  4566.92537133  4145.22717086  3817.48352014  3553.29696966\n",
      "  3334.46737877  3149.3440505   2990.07701968  2851.15839334\n",
      "  2728.59429432  2619.40863543  2521.33221599  2432.60053408\n",
      "  2351.81806652  2277.86464644  2209.82932834  2146.96268566\n",
      "  2088.64176147  2034.34388815  1983.62684014  1936.11358543\n",
      "  1891.48042726  1849.44767988  1809.77226223  1772.24176007\n",
      "  1736.66962459  1702.89125882  1670.76080435  1640.14848483\n",
      "  1610.9383957   1583.02665422  1556.31984238  1530.73368938\n",
      "  1506.19195142  1482.6254546   1459.97127382  1438.17202525\n",
      "  1417.1752543   1396.93290427  1377.40085335  1358.53850984\n",
      "  1340.30845711  1322.67614127  1305.6095956   1289.07919667\n",
      "  1273.05744804  1257.51878786  1242.43941728  1227.79714716\n",
      "  1213.57126072  1199.74239029  1186.29240636  1173.20431771\n",
      "  1160.46218107  1148.05101949  1135.95674832  1124.166108\n",
      "  1112.66660291  1101.44644576  1090.49450671  1079.80026704\n",
      "  1069.35377659  1059.14561494  1049.16685559  1039.40903326\n",
      "  1029.86411362  1020.5244655   1011.3828353   1002.43232322\n",
      "   993.66636145   985.07869388   976.66335734   968.41466417\n",
      "   960.32718613   952.39573932   944.61537025   936.98134283\n",
      "   929.48912626   922.13438371   914.9129618    907.82088074\n",
      "   900.85432506   894.00963508   887.28329874   880.67194407\n",
      "   874.17233211   867.78135017   861.49600564   855.31342007\n",
      "   849.23082363   843.24554989   837.35503094   831.55679272\n",
      "   825.84845066   820.22770562   814.69233989] C\n"
     ]
    }
   ],
   "source": [
    "#####Assuming the star be the Sun###########\n",
    "d=np.arange(1e8,1e10,1e8) #m\n",
    "#d=np.arange(1e10,1.5e11,1e10)\n",
    "#d=1.5e11\n",
    "ts=5800 \n",
    "r=696340000\n",
    "#t=math.sqrt (r*ts**2/(2*d))\n",
    "t_d = ts * (r/(2*d))**(1/2)\n",
    "print(\"The average temperature of the earth is =\",t_d,\"K\")\n",
    "print(\"The average temperature of the earth is =\",t_d-273,\"C\")\n"
   ]
  },
  {
   "cell_type": "code",
   "execution_count": 15,
   "metadata": {},
   "outputs": [],
   "source": [
    "#####Assuming the star be the Sun###########\n",
    "#d=d #m\n",
    "#ts=ts \n",
    "#r=r\n",
    "#t=math.sqrt (r*ts**2/(2*d))\n",
    "#print(\"The average temperature of the earth is =\",t,\"K\")\n",
    "#print(\"The average temperature of the earth is =\",t-273,\"C\")\n",
    "#t"
   ]
  },
  {
   "cell_type": "code",
   "execution_count": 16,
   "metadata": {
    "scrolled": true
   },
   "outputs": [
    {
     "data": {
      "image/png": "[encoded data removed]",
      "text/plain": [
       "<Figure size 432x288 with 1 Axes>"
      ]
     },
     "metadata": {
      "needs_background": "light"
     },
     "output_type": "display_data"
    }
   ],
   "source": [
    "\n",
    "from matplotlib import pyplot as plt\n",
    "#plt.figure(figsize=(7,6))\n",
    "#a=1/math.sqrt(2*d)\n",
    "plt.plot(t_d,d,color=\"red\", ms=1)\n",
    "plt.xlabel(\"Temp(K)\")\n",
    "plt.ylabel('Distance(m)')\n",
    "plt.show()\n"
   ]
  },
  {
   "cell_type": "code",
   "execution_count": 17,
   "metadata": {},
   "outputs": [
    {
     "data": {
      "image/png": "[encoded data removed]",
      "text/plain": [
       "<Figure size 432x288 with 1 Axes>"
      ]
     },
     "metadata": {
      "needs_background": "light"
     },
     "output_type": "display_data"
    }
   ],
   "source": [
    "import numpy as np \n",
    "import math\n",
    "from math import e\n",
    "from matplotlib import pyplot as plt\n",
    "T = np.linspace(0,100)\n",
    "tau =np.linspace(0, 1)\n",
    "Tb = T *(1- e**(-tau))\n",
    "plt.plot(Tb,tau,color=\"red\", ms=1)\n",
    "plt.xlabel(\"Temp(Bri)\")\n",
    "plt.ylabel('Tau')\n",
    "plt.show()\n"
   ]
  },
  {
   "cell_type": "code",
   "execution_count": null,
   "metadata": {},
   "outputs": [],
   "source": [
    "\n"
   ]
  },
  {
   "cell_type": "code",
   "execution_count": 20,
   "metadata": {},
   "outputs": [],
   "source": [
    "#distance=[57e9,108e9,149e9,228e9,780e9,1437e9,2871e9,4530e9]\n",
    "distance=[4530e9]"
   ]
  },
  {
   "cell_type": "code",
   "execution_count": 21,
   "metadata": {},
   "outputs": [
    {
     "name": "stdout",
     "output_type": "stream",
     "text": [
      "453.3005431897698\n",
      "The average temperature of the planet is = 453.3005431897698 K\n",
      "The average temperature of the planet is = 180.30054318976983 C\n"
     ]
    }
   ],
   "source": [
    "distance=[57e9]\n",
    "for d in distance:\n",
    "    ts=5800 \n",
    "    r=696340000\n",
    "    #t=math.sqrt (r*ts**2/(2*d))\n",
    "    t_d = ts * (r/(2*d))**(1/2)\n",
    "    d+=1\n",
    "   \n",
    "       \n",
    "print(t_d)\n",
    "print(\"The average temperature of the planet is =\",t_d,\"K\")\n",
    "print(\"The average temperature of the planet is =\",t_d-273,\"C\")"
   ]
  },
  {
   "cell_type": "code",
   "execution_count": 22,
   "metadata": {},
   "outputs": [],
   "source": [
    "distance=[57e9,108e9,149e9,149e9,228e9,780e9,1437e9,2871e9,4530e9]\n",
    "t_d=[453,329,280,280,226,122,90,63,50]"
   ]
  },
  {
   "cell_type": "code",
   "execution_count": 23,
   "metadata": {},
   "outputs": [
    {
     "data": {
      "image/png": "[encoded data removed]",
      "text/plain": [
       "<Figure size 432x288 with 1 Axes>"
      ]
     },
     "metadata": {
      "needs_background": "light"
     },
     "output_type": "display_data"
    }
   ],
   "source": [
    "plt.plot(t_d,distance,color=\"red\", ms=1)\n",
    "#plt.figure(figsize=(8,5))\n",
    "plt.annotate('Mercury',xy=(450, 57e9), xycoords='data',xytext=(-20, 20), textcoords='offset points',arrowprops=dict(arrowstyle=\"->\"))\n",
    "plt.annotate('Venus',xy=(329, 108e9), xycoords='data',xytext=(-20, 20), textcoords='offset points',arrowprops=dict(arrowstyle=\"->\"))\n",
    "plt.annotate('Earth',xy=(280, 149e9), xycoords='data',xytext=(-20, 20), textcoords='offset points',arrowprops=dict(arrowstyle=\"->\"))\n",
    "plt.annotate('Moon',xy=(280, 149e9), xycoords='data',xytext=(-40, 20), textcoords='offset points',arrowprops=dict(arrowstyle=\"->\"))\n",
    "plt.annotate('Mars',xy=(226, 228e9), xycoords='data',xytext=(20, 20), textcoords='offset points',arrowprops=dict(arrowstyle=\"->\"))\n",
    "plt.annotate('Jupiter',xy=(122, 780e9), xycoords='data',xytext=(10, 10), textcoords='offset points',arrowprops=dict(arrowstyle=\"->\"))\n",
    "plt.annotate('Saturn',xy=(90, 1437e9), xycoords='data',xytext=(-20, 20), textcoords='offset points',arrowprops=dict(arrowstyle=\"->\"))\n",
    "plt.annotate('Uranus',xy=(63, 2871e9), xycoords='data',xytext=(-20, 20), textcoords='offset points',arrowprops=dict(arrowstyle=\"->\"))\n",
    "plt.annotate('Neptune',xy=(50, 4530e9), xycoords='data',xytext=(-20, 20), textcoords='offset points',arrowprops=dict(arrowstyle=\"->\"))\n",
    "plt.xlabel(\"Temp(K)\")\n",
    "plt.ylabel('Distance(m)')\n",
    "plt.show()"
   ]
  },
  {
   "cell_type": "code",
   "execution_count": 24,
   "metadata": {},
   "outputs": [
    {
     "name": "stdout",
     "output_type": "stream",
     "text": [
      "453.3005431897698\n",
      "The average temperature of the planet is = 453.3005431897698 K\n",
      "The average temperature of the planet is = 180.30054318976983 C\n",
      "329.3152098027168\n",
      "The average temperature of the planet is = 329.3152098027168 K\n",
      "The average temperature of the planet is = 56.31520980271682 C\n",
      "280.3693489168895\n",
      "The average temperature of the planet is = 280.3693489168895 K\n",
      "The average temperature of the planet is = 7.369348916889521 C\n",
      "226.6502715948849\n",
      "The average temperature of the planet is = 226.6502715948849 K\n",
      "The average temperature of the planet is = -46.34972840511509 C\n",
      "122.53957393220846\n",
      "The average temperature of the planet is = 122.53957393220846 K\n",
      "The average temperature of the planet is = -150.46042606779156 C\n",
      "90.28077597576552\n",
      "The average temperature of the planet is = 90.28077597576552 K\n",
      "The average temperature of the planet is = -182.71922402423448 C\n",
      "63.87149345966225\n",
      "The average temperature of the planet is = 63.87149345966225 K\n",
      "The average temperature of the planet is = -209.12850654033775 C\n",
      "50.84808087743649\n",
      "The average temperature of the planet is = 50.84808087743649 K\n",
      "The average temperature of the planet is = -222.15191912256353 C\n"
     ]
    }
   ],
   "source": [
    "distance=[57e9,108e9,149e9,228e9,780e9,1437e9,2871e9,4530e9]\n",
    "for d in distance:\n",
    "    ts=5800 \n",
    "    r=696340000\n",
    "    #t=math.sqrt (r*ts**2/(2*d))\n",
    "    t_d = ts * (r/(2*d))**(1/2)\n",
    "    d=d+1\n",
    "    print(t_d)\n",
    "    print(\"The average temperature of the planet is =\",t_d,\"K\")\n",
    "    print(\"The average temperature of the planet is =\",t_d-273,\"C\")"
   ]
  },
  {
   "cell_type": "code",
   "execution_count": 25,
   "metadata": {},
   "outputs": [
    {
     "name": "stdout",
     "output_type": "stream",
     "text": [
      "30.4026845637651\n"
     ]
    }
   ],
   "source": [
    "tv=9602 \n",
    "r=2.5*696340000\n",
    "t_d=300\n",
    "#t=math.sqrt (r*ts**2/(2*d))\n",
    "t_d = tv * (r/(2*d))**(1/2)\n",
    "d=d/149e9\n",
    "print(d)"
   ]
  },
  {
   "cell_type": "code",
   "execution_count": 26,
   "metadata": {},
   "outputs": [
    {
     "data": {
      "text/plain": [
       "0.011683557046979865"
      ]
     },
     "execution_count": 26,
     "metadata": {},
     "output_type": "execute_result"
    }
   ],
   "source": [
    "l= 40*3.8*10**26\n",
    "rv=2.5*696340000\n",
    "t=9602\n",
    "sb=5.67*10**-8\n",
    "t=(l/(sb*4*math.pi*r**2*4*math.pi*rv**2))**0.25\n",
    "r=r/149e9\n",
    "r"
   ]
  },
  {
   "cell_type": "code",
   "execution_count": 27,
   "metadata": {},
   "outputs": [
    {
     "data": {
      "text/plain": [
       "1571903.4612537997"
      ]
     },
     "execution_count": 27,
     "metadata": {},
     "output_type": "execute_result"
    }
   ],
   "source": [
    "t=100\n",
    "r=0.1*10**-6\n",
    "w=math.sqrt(9*k*t/(160*math.pi*r**5))\n",
    "w"
   ]
  },
  {
   "cell_type": "code",
   "execution_count": 28,
   "metadata": {},
   "outputs": [
    {
     "data": {
      "text/plain": [
       "1.2374999999999996e-06"
      ]
     },
     "execution_count": 28,
     "metadata": {},
     "output_type": "execute_result"
    }
   ],
   "source": [
    "e1=1.6*10**-19\n",
    "c=3*10**8\n",
    "h=6.6*10**-34\n",
    "wlength=h*c/e1\n",
    "wlength"
   ]
  },
  {
   "cell_type": "code",
   "execution_count": 29,
   "metadata": {},
   "outputs": [
    {
     "name": "stdout",
     "output_type": "stream",
     "text": [
      "reduced mass is = 1.3963636363636363e-26\n",
      "Walength 0.005642448979591835  metre\n",
      "Walength 5.642448979591835  mm\n"
     ]
    }
   ],
   "source": [
    "mc=12\n",
    "ms=32\n",
    "mu=((mc*ms)/(mc+ms))*1.6*10**-27 # reduced mass in kg..\n",
    "hcut= 1.05*10**-34 #J.S\n",
    "#mu=8.72*1.6*10**-27 #kg\n",
    "j=1\n",
    "h=6.6*10**-34\n",
    "c=3*10**8\n",
    "r=1.5*10**-10\n",
    "a=(hcut)**2/(2*mu*r**2)*j*(j+1)\n",
    "l=h*c/a\n",
    "print(\"reduced mass is =\",mu)\n",
    "print(\"Walength\",l,' metre')\n",
    "print(\"Walength\",l*1000,' mm')"
   ]
  },
  {
   "cell_type": "code",
   "execution_count": 30,
   "metadata": {},
   "outputs": [
    {
     "data": {
      "text/plain": [
       "9.477108433734939e+45"
      ]
     },
     "execution_count": 30,
     "metadata": {},
     "output_type": "execute_result"
    }
   ],
   "source": [
    "######## Thermal Energy of HI region ########### \n",
    "ms= 1.9*10**30 #Kg mass of sun\n",
    "M=400*ms\n",
    "k=1.38*10**-23\n",
    "T=100\n",
    "m_h=1* 1.66*10**-27 #amu\n",
    "\n",
    "E=3*M*k*T/(2*m_h) *10**7 #Change to erge\n",
    "E"
   ]
  },
  {
   "cell_type": "code",
   "execution_count": 31,
   "metadata": {},
   "outputs": [
    {
     "data": {
      "text/plain": [
       "1.4974177057679845e+45"
      ]
     },
     "execution_count": 31,
     "metadata": {},
     "output_type": "execute_result"
    }
   ],
   "source": [
    "#####Gravitational Binding energy #########\n",
    "G=6.667*10**-11\n",
    "pc=3.086*10**16\n",
    "R=5*pc\n",
    "Eg=3*G*M**2/(5*R) *10**7\n",
    "Eg  "
   ]
  },
  {
   "cell_type": "code",
   "execution_count": 32,
   "metadata": {},
   "outputs": [
    {
     "name": "stdout",
     "output_type": "stream",
     "text": [
      "Mean free length =  2.970892271048712e-07\n",
      "Number density =  2.678571428571428e+25\n",
      "Area of molecule = 1.2566370614359177e-19\n",
      "root mean square speed =  429.9086281658331\n",
      "Time = 6.910520227806917e-10 s\n"
     ]
    }
   ],
   "source": [
    " #####Root mean square velocity#####\n",
    "T=300 #K\n",
    "amu=1.6*10**-27\n",
    "k=1.38*10**-23\n",
    "m=28*amu\n",
    "v=math.sqrt(2*k*T/m)\n",
    "r=0.1*10**-9\n",
    "sigma= math.pi*(2*r)**2\n",
    "rho=1.2\n",
    "n=rho/m\n",
    "l=1/(n*sigma)\n",
    "print(\"Mean free length = \", l)\n",
    "print(\"Number density = \", n)\n",
    "print(\"Area of molecule =\",sigma)\n",
    "print(\"root mean square speed = \",v)\n",
    "print(\"Time =\",l/v ,\"s\")"
   ]
  },
  {
   "cell_type": "code",
   "execution_count": 33,
   "metadata": {},
   "outputs": [
    {
     "data": {
      "text/plain": [
       "96"
      ]
     },
     "execution_count": 33,
     "metadata": {},
     "output_type": "execute_result"
    }
   ],
   "source": [
    "23+73"
   ]
  },
  {
   "cell_type": "code",
   "execution_count": 34,
   "metadata": {},
   "outputs": [
    {
     "name": "stdout",
     "output_type": "stream",
     "text": [
      "My name is William.\n"
     ]
    }
   ],
   "source": [
    "print(\"My name is William.\")"
   ]
  },
  {
   "cell_type": "code",
   "execution_count": 35,
   "metadata": {},
   "outputs": [
    {
     "data": {
      "text/plain": [
       "5.0"
      ]
     },
     "execution_count": 35,
     "metadata": {},
     "output_type": "execute_result"
    }
   ],
   "source": [
    "25/5"
   ]
  },
  {
   "cell_type": "code",
   "execution_count": 36,
   "metadata": {},
   "outputs": [
    {
     "data": {
      "text/plain": [
       "5.0"
      ]
     },
     "execution_count": 36,
     "metadata": {},
     "output_type": "execute_result"
    }
   ],
   "source": [
    "25/5\n"
   ]
  },
  {
   "cell_type": "code",
   "execution_count": 37,
   "metadata": {},
   "outputs": [
    {
     "data": {
      "text/plain": [
       "324"
      ]
     },
     "execution_count": 37,
     "metadata": {},
     "output_type": "execute_result"
    }
   ],
   "source": [
    "18*18"
   ]
  },
  {
   "cell_type": "code",
   "execution_count": 38,
   "metadata": {},
   "outputs": [
    {
     "data": {
      "text/plain": [
       "1154.729405531876"
      ]
     },
     "execution_count": 38,
     "metadata": {},
     "output_type": "execute_result"
    }
   ],
   "source": [
    "G=6.667*10**-11\n",
    "g=3*10**8\n",
    "m=6*10**24\n",
    "r=math.sqrt(G*m/g)\n",
    "r\n"
   ]
  },
  {
   "cell_type": "code",
   "execution_count": 39,
   "metadata": {},
   "outputs": [
    {
     "data": {
      "text/plain": [
       "1.062692735809612e-05"
      ]
     },
     "execution_count": 39,
     "metadata": {},
     "output_type": "execute_result"
    }
   ],
   "source": [
    "m = 2.1 * 10**31 # Kg\n",
    "r=  778600000000\n",
    "v= 4/3 * 3.14 * r**3\n",
    "d= m/v\n",
    "d"
   ]
  },
  {
   "cell_type": "code",
   "execution_count": 40,
   "metadata": {},
   "outputs": [
    {
     "name": "stdout",
     "output_type": "stream",
     "text": [
      "Jeans length =  32487.271931648193 AU\n"
     ]
    }
   ],
   "source": [
    "k = 1.38*10**-23\n",
    "T = 10 \n",
    "G = 6.667*10**-11\n",
    "nh2 = 10**10\n",
    "mu = 2\n",
    "mh = 1.008 * amu\n",
    "rho_0 =  2*mh*nh2\n",
    "Rj = (15*k*T/(4*math.pi*G*mu*mh*rho_0))**0.5\n",
    "JL =Rj/(1.5*10**11)\n",
    "print (\"Jeans length = \", JL ,\"AU\")"
   ]
  },
  {
   "cell_type": "code",
   "execution_count": 41,
   "metadata": {},
   "outputs": [
    {
     "data": {
      "text/plain": [
       "38530.896461120145"
      ]
     },
     "execution_count": 41,
     "metadata": {},
     "output_type": "execute_result"
    }
   ],
   "source": [
    "c = 3*10**8\n",
    "Fu= 8*10**-26\n",
    "k = 1.38*10**-23\n",
    "Sa = 3.42*10**-9\n",
    "v = 1407 *10**6\n",
    "T = c**2 *Fu/(2*k*Sa*v**2)\n",
    "T"
   ]
  },
  {
   "cell_type": "code",
   "execution_count": 42,
   "metadata": {},
   "outputs": [
    {
     "data": {
      "text/plain": [
       "340567.5307376059"
      ]
     },
     "execution_count": 42,
     "metadata": {},
     "output_type": "execute_result"
    }
   ],
   "source": [
    "import math\n",
    "\n",
    "k = 1.38*10**-23\n",
    "T = 10\n",
    "G = 6.667* 10**-11\n",
    "mu = 2\n",
    "mh = 1.6*10**-27\n",
    "rho= 3*10**-19\n",
    "Rj = math.sqrt(15* k * T/(4* 3.14 * G * mu * mh * rho)) \n",
    "Rjau = Rj / (1.49 * 10**11)\n",
    "Rjau"
   ]
  },
  {
   "cell_type": "code",
   "execution_count": 43,
   "metadata": {},
   "outputs": [
    {
     "data": {
      "text/plain": [
       "73860.3704442446"
      ]
     },
     "execution_count": 43,
     "metadata": {},
     "output_type": "execute_result"
    }
   ],
   "source": [
    "import math \n",
    "B = 13.6 * 1.6 * 10**-19\n",
    "k = 1.38*10**-23\n",
    "T = 2000\n",
    "x = 0.03\n",
    "hcut= 1.05*10**-34 #J.S\n",
    "h=6.6*10**-34\n",
    "me = 9.1 * 10**-31 #Kg\n",
    "nb =  (me * k * T/(2 * math.pi * hcut**2 ))**(3/2) *  math.exp( -B/(k*T)) * ((1-x)/x**2)\n",
    "nb1 = 1/nb\n",
    "nb1"
   ]
  },
  {
   "cell_type": "code",
   "execution_count": 44,
   "metadata": {},
   "outputs": [
    {
     "name": "stdout",
     "output_type": "stream",
     "text": [
      "x =  0.9999949586341036 or x =  -115384615385.61539\n"
     ]
    }
   ],
   "source": [
    "nb =0.0013 /(1.5 * 10**8) \n",
    "b = 1 \n",
    "a = nb\n",
    "c = -1\n",
    "x1= (-b + math.sqrt(b**2 - 4 *a *c))/(2 *a)\n",
    "x2= (-b - math.sqrt(b**2 - 4 *a *c))/(2 *a)\n",
    "print ('x = ',x1 , 'or', 'x = ', x2)"
   ]
  },
  {
   "cell_type": "code",
   "execution_count": null,
   "metadata": {},
   "outputs": [],
   "source": []
  },
  {
   "cell_type": "code",
   "execution_count": null,
   "metadata": {},
   "outputs": [],
   "source": []
  },
  {
   "cell_type": "code",
   "execution_count": 45,
   "metadata": {},
   "outputs": [
    {
     "data": {
      "text/plain": [
       "110777.77777777778"
      ]
     },
     "execution_count": 45,
     "metadata": {},
     "output_type": "execute_result"
    }
   ],
   "source": [
    "xa = 0.003 \n",
    "lhs = (1 - xa)/ xa**2\n",
    "lhs"
   ]
  },
  {
   "cell_type": "code",
   "execution_count": null,
   "metadata": {},
   "outputs": [],
   "source": []
  },
  {
   "cell_type": "code",
   "execution_count": null,
   "metadata": {},
   "outputs": [],
   "source": []
  },
  {
   "cell_type": "code",
   "execution_count": 50,
   "metadata": {},
   "outputs": [
    {
     "name": "stdout",
     "output_type": "stream",
     "text": [
      "x =  8.164632482748065e-05 or x =  -8.165299149414732e-05\n"
     ]
    }
   ],
   "source": [
    "b = 1 \n",
    "a = 1.5*10**8\n",
    "c = -1\n",
    "x1= (-b + math.sqrt(b**2 - 4 *a *c))/(2 *a)\n",
    "x2= (-b - math.sqrt(b**2 - 4 *a *c))/(2 *a)\n",
    "print ('x = ',x1 , 'or', 'x = ', x2)"
   ]
  },
  {
   "cell_type": "code",
   "execution_count": null,
   "metadata": {},
   "outputs": [],
   "source": []
  },
  {
   "cell_type": "code",
   "execution_count": 51,
   "metadata": {},
   "outputs": [],
   "source": [
    "import numpy as np\n",
    "#x = np.linspace (  0, 0.99)\n",
    "T =np.linspace( 2000,10000,100)\n",
    "from matplotlib import pyplot as plt\n",
    "import math \n",
    "B = 13.6 * 1.6 * 10**-19\n",
    "k = 1.38*10**-23\n",
    "#T = 3000\n",
    "hcut= 1.05*10**-34 #J.S\n",
    "h=6.6*10**-34\n",
    "me = 9.1 * 10**-31 #Kg\n",
    "\n"
   ]
  },
  {
   "cell_type": "code",
   "execution_count": 52,
   "metadata": {},
   "outputs": [
    {
     "name": "stdout",
     "output_type": "stream",
     "text": [
      "[1.29385388e+33 5.81832416e+31 3.29216369e+30 2.28656643e+29\n",
      " 1.90830039e+28 1.87868753e+27 2.14700249e+26 2.80855639e+25\n",
      " 4.15386278e+24 6.87098026e+23 1.25893790e+23 2.53336077e+22\n",
      " 5.55633139e+21 1.31922445e+21 3.37003597e+20 9.21187408e+19\n",
      " 2.68105178e+19 8.27100269e+18 2.69364708e+18 9.22672736e+17\n",
      " 3.31296716e+17 1.24312413e+17 4.86092743e+16 1.97566072e+16\n",
      " 8.32658699e+15 3.63110078e+15 1.63514261e+15 7.58954154e+14\n",
      " 3.62472683e+14 1.77847273e+14 8.95145768e+13 4.61554473e+13\n",
      " 2.43491850e+13 1.31270083e+13 7.22419283e+12 4.05423918e+12\n",
      " 2.31797820e+12 1.34896174e+12 7.98390430e+11 4.80191351e+11\n",
      " 2.93275395e+11 1.81759712e+11 1.14234357e+11 7.27622420e+10\n",
      " 4.69433604e+10 3.06594224e+10 2.02605728e+10 1.35402322e+10\n",
      " 9.14718364e+09 6.24376601e+09 4.30452147e+09 2.99607504e+09\n",
      " 2.10459893e+09 1.49149700e+09 1.06602415e+09 7.68184932e+08\n",
      " 5.57940458e+08 4.08327720e+08 3.01030434e+08 2.23501118e+08\n",
      " 1.67074152e+08 1.25717751e+08 9.52015279e+07 7.25367099e+07\n",
      " 5.55967279e+07 4.28580920e+07 3.32221067e+07 2.58913256e+07\n",
      " 2.02833449e+07 1.59702455e+07 1.26357752e+07 1.00448826e+07\n",
      " 8.02190684e+06 6.43487010e+06 5.18410107e+06 4.19394791e+06\n",
      " 3.40670938e+06 2.77816664e+06 2.27427675e+06 1.86871335e+06\n",
      " 1.54102887e+06 1.27527438e+06 1.05895856e+06 8.82258864e+05\n",
      " 7.37421130e+05 6.18300754e+05 5.20010550e+05 4.38649395e+05\n",
      " 3.71092333e+05 3.14827560e+05 2.67829371e+05 2.28458764e+05\n",
      " 1.95385403e+05 1.67526138e+05 1.43996409e+05 1.24071702e+05\n",
      " 1.07156878e+05 9.27616958e+04 8.04812130e+04 6.99800448e+04]\n"
     ]
    }
   ],
   "source": [
    "N = 1 / ((1 / n) * (me*k*T) ** (3/2) * (2 * np.pi * hcut ** 2) ** (-3/2) * np.exp(-13.6/((8.68*10**(-5))*T)))\n",
    "print(N)\n"
   ]
  },
  {
   "cell_type": "code",
   "execution_count": 53,
   "metadata": {},
   "outputs": [],
   "source": [
    "#N = 1.6*10**8"
   ]
  },
  {
   "cell_type": "code",
   "execution_count": 54,
   "metadata": {},
   "outputs": [
    {
     "name": "stdout",
     "output_type": "stream",
     "text": [
      "[2.78008058e-17 1.31099502e-16 5.51136647e-16 2.09126028e-15\n",
      " 7.23896756e-15 2.30713349e-14 6.82470252e-14 1.88694146e-13\n",
      " 4.90652400e-13 1.20639811e-12 2.81836895e-12 6.28277461e-12\n",
      " 1.34154712e-11 2.75321834e-11 5.44731804e-11 1.04189992e-10\n",
      " 1.93128959e-10 3.47712993e-10 6.09297859e-10 1.04106095e-09\n",
      " 1.73736646e-09 2.83623852e-09 4.53565936e-09 7.11449070e-09\n",
      " 1.09588879e-08 1.65951371e-08 2.47298896e-08 3.62987961e-08\n",
      " 5.25245509e-08 7.49853423e-08 1.05694672e-07 1.47193450e-07\n",
      " 2.02655195e-07 2.76005070e-07 3.72053380e-07 4.96644018e-07\n",
      " 6.56818209e-07 8.60993747e-07 1.11915978e-06 1.44308702e-06\n",
      " 1.84655303e-06 2.34558231e-06 2.95870037e-06 3.70720122e-06\n",
      " 4.61542725e-06 5.71106069e-06 7.02542521e-06 8.59379675e-06\n",
      " 1.04557221e-05 1.26553436e-05 1.52417295e-05 1.82692067e-05\n",
      " 2.17976961e-05 2.58930485e-05 3.06273787e-05 3.60793972e-05\n",
      " 4.23347383e-05 4.94862816e-05 5.76344671e-05 6.68876018e-05\n",
      " 7.73621566e-05 8.91830524e-05 1.02483933e-04 1.17407429e-04\n",
      " 1.34105399e-04 1.52739166e-04 1.73479732e-04 1.96507975e-04\n",
      " 2.22014836e-04 2.50201475e-04 2.81279426e-04 3.15470716e-04\n",
      " 3.53007981e-04 3.94134549e-04 4.39104511e-04 4.88182774e-04\n",
      " 5.41645087e-04 5.99778059e-04 6.62879143e-04 7.31256614e-04\n",
      " 8.05229521e-04 8.85127624e-04 9.71291306e-04 1.06407148e-03\n",
      " 1.16382945e-03 1.27093680e-03 1.38577524e-03 1.50873640e-03\n",
      " 1.64022168e-03 1.78064204e-03 1.93041778e-03 2.08997832e-03\n",
      " 2.25976192e-03 2.44021548e-03 2.63179422e-03 2.83496141e-03\n",
      " 3.05018810e-03 3.27795278e-03 3.51874108e-03 3.77304544e-03]\n"
     ]
    }
   ],
   "source": [
    "x = (-1 + np.sqrt (1 + 4* N))/(2 * N)\n",
    "print (x)"
   ]
  },
  {
   "cell_type": "code",
   "execution_count": 55,
   "metadata": {},
   "outputs": [
    {
     "data": {
      "image/png": "[encoded data removed]",
      "text/plain": [
       "<Figure size 504x432 with 1 Axes>"
      ]
     },
     "metadata": {
      "needs_background": "light"
     },
     "output_type": "display_data"
    }
   ],
   "source": [
    "plt.figure(figsize=(7,6))\n",
    "plt.plot(T,x,color=\"red\", ms=1)\n",
    "plt.xlabel(\"Temp(K)\")\n",
    "plt.ylabel('(ne/nH)')\n",
    "plt.xlim (10000, 2000)\n",
    "plt.show()"
   ]
  },
  {
   "cell_type": "code",
   "execution_count": null,
   "metadata": {},
   "outputs": [],
   "source": []
  },
  {
   "cell_type": "code",
   "execution_count": null,
   "metadata": {},
   "outputs": [],
   "source": []
  },
  {
   "cell_type": "code",
   "execution_count": null,
   "metadata": {},
   "outputs": [],
   "source": []
  }
 ],
 "metadata": {
  "kernelspec": {
   "display_name": "Python 3",
   "language": "python",
   "name": "python3"
  },
  "language_info": {
   "codemirror_mode": {
    "name": "ipython",
    "version": 3
   },
   "file_extension": ".py",
   "mimetype": "text/x-python",
   "name": "python",
   "nbconvert_exporter": "python",
   "pygments_lexer": "ipython3",
   "version": "3.8.5"
  }
 },
 "nbformat": 4,
 "nbformat_minor": 4
}
